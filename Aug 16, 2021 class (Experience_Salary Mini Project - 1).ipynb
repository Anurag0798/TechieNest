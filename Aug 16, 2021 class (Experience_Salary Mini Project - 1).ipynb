{
 "cells": [
  {
   "cell_type": "code",
   "execution_count": 2,
   "metadata": {},
   "outputs": [],
   "source": [
    "import pandas as pd\n",
    "import numpy as np\n",
    "import matplotlib.pyplot as plt\n",
    "%matplotlib inline"
   ]
  },
  {
   "cell_type": "code",
   "execution_count": 3,
   "metadata": {},
   "outputs": [
    {
     "data": {
      "text/html": [
       "<div>\n",
       "<style scoped>\n",
       "    .dataframe tbody tr th:only-of-type {\n",
       "        vertical-align: middle;\n",
       "    }\n",
       "\n",
       "    .dataframe tbody tr th {\n",
       "        vertical-align: top;\n",
       "    }\n",
       "\n",
       "    .dataframe thead th {\n",
       "        text-align: right;\n",
       "    }\n",
       "</style>\n",
       "<table border=\"1\" class=\"dataframe\">\n",
       "  <thead>\n",
       "    <tr style=\"text-align: right;\">\n",
       "      <th></th>\n",
       "      <th>YearsExperience</th>\n",
       "      <th>Salary</th>\n",
       "    </tr>\n",
       "  </thead>\n",
       "  <tbody>\n",
       "    <tr>\n",
       "      <th>0</th>\n",
       "      <td>1.1</td>\n",
       "      <td>39343.0</td>\n",
       "    </tr>\n",
       "    <tr>\n",
       "      <th>1</th>\n",
       "      <td>1.3</td>\n",
       "      <td>46205.0</td>\n",
       "    </tr>\n",
       "    <tr>\n",
       "      <th>2</th>\n",
       "      <td>1.5</td>\n",
       "      <td>37731.0</td>\n",
       "    </tr>\n",
       "    <tr>\n",
       "      <th>3</th>\n",
       "      <td>2.0</td>\n",
       "      <td>43525.0</td>\n",
       "    </tr>\n",
       "    <tr>\n",
       "      <th>4</th>\n",
       "      <td>2.2</td>\n",
       "      <td>39891.0</td>\n",
       "    </tr>\n",
       "  </tbody>\n",
       "</table>\n",
       "</div>"
      ],
      "text/plain": [
       "   YearsExperience   Salary\n",
       "0              1.1  39343.0\n",
       "1              1.3  46205.0\n",
       "2              1.5  37731.0\n",
       "3              2.0  43525.0\n",
       "4              2.2  39891.0"
      ]
     },
     "execution_count": 3,
     "metadata": {},
     "output_type": "execute_result"
    }
   ],
   "source": [
    "df = pd.read_csv(\"Salary_Data.csv\")\n",
    "df.head()"
   ]
  },
  {
   "cell_type": "code",
   "execution_count": 4,
   "metadata": {},
   "outputs": [
    {
     "data": {
      "text/plain": [
       "(30, 2)"
      ]
     },
     "execution_count": 4,
     "metadata": {},
     "output_type": "execute_result"
    }
   ],
   "source": [
    "df.shape"
   ]
  },
  {
   "cell_type": "code",
   "execution_count": 5,
   "metadata": {},
   "outputs": [
    {
     "data": {
      "text/plain": [
       "Index(['YearsExperience', 'Salary'], dtype='object')"
      ]
     },
     "execution_count": 5,
     "metadata": {},
     "output_type": "execute_result"
    }
   ],
   "source": [
    "df.columns"
   ]
  },
  {
   "cell_type": "code",
   "execution_count": 6,
   "metadata": {},
   "outputs": [
    {
     "name": "stdout",
     "output_type": "stream",
     "text": [
      "<class 'pandas.core.frame.DataFrame'>\n",
      "RangeIndex: 30 entries, 0 to 29\n",
      "Data columns (total 2 columns):\n",
      " #   Column           Non-Null Count  Dtype  \n",
      "---  ------           --------------  -----  \n",
      " 0   YearsExperience  30 non-null     float64\n",
      " 1   Salary           30 non-null     float64\n",
      "dtypes: float64(2)\n",
      "memory usage: 608.0 bytes\n"
     ]
    }
   ],
   "source": [
    "df.info()"
   ]
  },
  {
   "cell_type": "code",
   "execution_count": 7,
   "metadata": {},
   "outputs": [
    {
     "data": {
      "text/html": [
       "<div>\n",
       "<style scoped>\n",
       "    .dataframe tbody tr th:only-of-type {\n",
       "        vertical-align: middle;\n",
       "    }\n",
       "\n",
       "    .dataframe tbody tr th {\n",
       "        vertical-align: top;\n",
       "    }\n",
       "\n",
       "    .dataframe thead th {\n",
       "        text-align: right;\n",
       "    }\n",
       "</style>\n",
       "<table border=\"1\" class=\"dataframe\">\n",
       "  <thead>\n",
       "    <tr style=\"text-align: right;\">\n",
       "      <th></th>\n",
       "      <th>YearsExperience</th>\n",
       "      <th>Salary</th>\n",
       "    </tr>\n",
       "  </thead>\n",
       "  <tbody>\n",
       "    <tr>\n",
       "      <th>count</th>\n",
       "      <td>30.000000</td>\n",
       "      <td>30.000000</td>\n",
       "    </tr>\n",
       "    <tr>\n",
       "      <th>mean</th>\n",
       "      <td>5.313333</td>\n",
       "      <td>76003.000000</td>\n",
       "    </tr>\n",
       "    <tr>\n",
       "      <th>std</th>\n",
       "      <td>2.837888</td>\n",
       "      <td>27414.429785</td>\n",
       "    </tr>\n",
       "    <tr>\n",
       "      <th>min</th>\n",
       "      <td>1.100000</td>\n",
       "      <td>37731.000000</td>\n",
       "    </tr>\n",
       "    <tr>\n",
       "      <th>25%</th>\n",
       "      <td>3.200000</td>\n",
       "      <td>56720.750000</td>\n",
       "    </tr>\n",
       "    <tr>\n",
       "      <th>50%</th>\n",
       "      <td>4.700000</td>\n",
       "      <td>65237.000000</td>\n",
       "    </tr>\n",
       "    <tr>\n",
       "      <th>75%</th>\n",
       "      <td>7.700000</td>\n",
       "      <td>100544.750000</td>\n",
       "    </tr>\n",
       "    <tr>\n",
       "      <th>max</th>\n",
       "      <td>10.500000</td>\n",
       "      <td>122391.000000</td>\n",
       "    </tr>\n",
       "  </tbody>\n",
       "</table>\n",
       "</div>"
      ],
      "text/plain": [
       "       YearsExperience         Salary\n",
       "count        30.000000      30.000000\n",
       "mean          5.313333   76003.000000\n",
       "std           2.837888   27414.429785\n",
       "min           1.100000   37731.000000\n",
       "25%           3.200000   56720.750000\n",
       "50%           4.700000   65237.000000\n",
       "75%           7.700000  100544.750000\n",
       "max          10.500000  122391.000000"
      ]
     },
     "execution_count": 7,
     "metadata": {},
     "output_type": "execute_result"
    }
   ],
   "source": [
    "df.describe()"
   ]
  },
  {
   "cell_type": "code",
   "execution_count": 8,
   "metadata": {},
   "outputs": [
    {
     "data": {
      "text/plain": [
       "YearsExperience    28\n",
       "Salary             30\n",
       "dtype: int64"
      ]
     },
     "execution_count": 8,
     "metadata": {},
     "output_type": "execute_result"
    }
   ],
   "source": [
    "df.nunique()"
   ]
  },
  {
   "cell_type": "code",
   "execution_count": 9,
   "metadata": {},
   "outputs": [
    {
     "data": {
      "text/plain": [
       "YearsExperience    float64\n",
       "Salary             float64\n",
       "dtype: object"
      ]
     },
     "execution_count": 9,
     "metadata": {},
     "output_type": "execute_result"
    }
   ],
   "source": [
    "df.dtypes"
   ]
  },
  {
   "cell_type": "code",
   "execution_count": 12,
   "metadata": {},
   "outputs": [
    {
     "data": {
      "image/png": "[encoded data removed]",
      "text/plain": [
       "<Figure size 432x288 with 1 Axes>"
      ]
     },
     "metadata": {
      "needs_background": "light"
     },
     "output_type": "display_data"
    }
   ],
   "source": [
    "for i in df.columns[:-1]:\n",
    "    plt.scatter(df[i], df[\"Salary\"])\n",
    "    plt.xlabel(i)\n",
    "    plt.ylabel(\"Salary\")\n",
    "    plt.title(i)\n",
    "    plt.show()"
   ]
  },
  {
   "cell_type": "code",
   "execution_count": 46,
   "metadata": {},
   "outputs": [],
   "source": [
    "import seaborn as sns"
   ]
  },
  {
   "cell_type": "code",
   "execution_count": 47,
   "metadata": {
    "scrolled": false
   },
   "outputs": [
    {
     "data": {
      "text/plain": [
       "<seaborn.axisgrid.PairGrid at 0x2b67922f850>"
      ]
     },
     "execution_count": 47,
     "metadata": {},
     "output_type": "execute_result"
    },
    {
     "data": {
      "image/png": "[encoded data removed]",
      "text/plain": [
       "<Figure size 360x360 with 6 Axes>"
      ]
     },
     "metadata": {
      "needs_background": "light"
     },
     "output_type": "display_data"
    }
   ],
   "source": [
    "sns.pairplot(df)"
   ]
  },
  {
   "cell_type": "code",
   "execution_count": 49,
   "metadata": {},
   "outputs": [
    {
     "data": {
      "image/png": "[encoded data removed]",
      "text/plain": [
       "<Figure size 432x288 with 1 Axes>"
      ]
     },
     "metadata": {
      "needs_background": "light"
     },
     "output_type": "display_data"
    }
   ],
   "source": [
    "sns.regplot(x='YearsExperience', y='Salary', data=df)\n",
    "plt.grid()"
   ]
  },
  {
   "cell_type": "code",
   "execution_count": 43,
   "metadata": {},
   "outputs": [
    {
     "data": {
      "image/png": "[encoded data removed]",
      "text/plain": [
       "<Figure size 432x288 with 1 Axes>"
      ]
     },
     "metadata": {
      "needs_background": "light"
     },
     "output_type": "display_data"
    }
   ],
   "source": [
    "for i in df.columns[:-1]:\n",
    "    plt.plot(df[i], df[\"Salary\"])\n",
    "    plt.xlabel(i)\n",
    "    plt.ylabel(\"Salary\")\n",
    "    plt.title(i)\n",
    "    plt.show()"
   ]
  },
  {
   "cell_type": "code",
   "execution_count": 13,
   "metadata": {},
   "outputs": [
    {
     "data": {
      "image/png": "[encoded data removed]",
      "text/plain": [
       "<Figure size 432x288 with 1 Axes>"
      ]
     },
     "metadata": {
      "needs_background": "light"
     },
     "output_type": "display_data"
    }
   ],
   "source": [
    "for i in df.columns[:-1]:\n",
    "    plt.hist(df[i])\n",
    "    plt.xlabel(i)\n",
    "    plt.ylabel(\"Frequency\")\n",
    "    plt.title(i)\n",
    "    plt.show()"
   ]
  },
  {
   "cell_type": "code",
   "execution_count": 14,
   "metadata": {},
   "outputs": [
    {
     "data": {
      "text/plain": [
       "Index(['YearsExperience', 'Salary'], dtype='object')"
      ]
     },
     "execution_count": 14,
     "metadata": {},
     "output_type": "execute_result"
    }
   ],
   "source": [
    "df.columns"
   ]
  },
  {
   "cell_type": "code",
   "execution_count": 44,
   "metadata": {},
   "outputs": [
    {
     "data": {
      "text/html": [
       "<div>\n",
       "<style scoped>\n",
       "    .dataframe tbody tr th:only-of-type {\n",
       "        vertical-align: middle;\n",
       "    }\n",
       "\n",
       "    .dataframe tbody tr th {\n",
       "        vertical-align: top;\n",
       "    }\n",
       "\n",
       "    .dataframe thead th {\n",
       "        text-align: right;\n",
       "    }\n",
       "</style>\n",
       "<table border=\"1\" class=\"dataframe\">\n",
       "  <thead>\n",
       "    <tr style=\"text-align: right;\">\n",
       "      <th></th>\n",
       "      <th>YearsExperience</th>\n",
       "    </tr>\n",
       "  </thead>\n",
       "  <tbody>\n",
       "    <tr>\n",
       "      <th>0</th>\n",
       "      <td>1.1</td>\n",
       "    </tr>\n",
       "    <tr>\n",
       "      <th>1</th>\n",
       "      <td>1.3</td>\n",
       "    </tr>\n",
       "    <tr>\n",
       "      <th>2</th>\n",
       "      <td>1.5</td>\n",
       "    </tr>\n",
       "    <tr>\n",
       "      <th>3</th>\n",
       "      <td>2.0</td>\n",
       "    </tr>\n",
       "    <tr>\n",
       "      <th>4</th>\n",
       "      <td>2.2</td>\n",
       "    </tr>\n",
       "  </tbody>\n",
       "</table>\n",
       "</div>"
      ],
      "text/plain": [
       "   YearsExperience\n",
       "0              1.1\n",
       "1              1.3\n",
       "2              1.5\n",
       "3              2.0\n",
       "4              2.2"
      ]
     },
     "execution_count": 44,
     "metadata": {},
     "output_type": "execute_result"
    }
   ],
   "source": [
    "x = df[[\"YearsExperience\"]]\n",
    "x.head()"
   ]
  },
  {
   "cell_type": "code",
   "execution_count": 45,
   "metadata": {},
   "outputs": [
    {
     "data": {
      "text/plain": [
       "0    39343.0\n",
       "1    46205.0\n",
       "2    37731.0\n",
       "3    43525.0\n",
       "4    39891.0\n",
       "Name: Salary, dtype: float64"
      ]
     },
     "execution_count": 45,
     "metadata": {},
     "output_type": "execute_result"
    }
   ],
   "source": [
    "y = df['Salary']\n",
    "y.head()"
   ]
  },
  {
   "cell_type": "code",
   "execution_count": 27,
   "metadata": {},
   "outputs": [
    {
     "data": {
      "text/plain": [
       "YearsExperience    0.978242\n",
       "dtype: float64"
      ]
     },
     "execution_count": 27,
     "metadata": {},
     "output_type": "execute_result"
    }
   ],
   "source": [
    "x.corrwith(y)  # x has to be dataframe and y has to be a series"
   ]
  },
  {
   "cell_type": "code",
   "execution_count": 28,
   "metadata": {},
   "outputs": [],
   "source": [
    "from sklearn.model_selection import train_test_split\n",
    "from sklearn.linear_model import LinearRegression"
   ]
  },
  {
   "cell_type": "code",
   "execution_count": 29,
   "metadata": {},
   "outputs": [],
   "source": [
    "xtrain, xtest, ytrain, ytest = train_test_split(x, y, test_size=0.2, random_state=10)"
   ]
  },
  {
   "cell_type": "code",
   "execution_count": 30,
   "metadata": {},
   "outputs": [
    {
     "data": {
      "text/plain": [
       "(30, 1)"
      ]
     },
     "execution_count": 30,
     "metadata": {},
     "output_type": "execute_result"
    }
   ],
   "source": [
    "x.shape"
   ]
  },
  {
   "cell_type": "code",
   "execution_count": 31,
   "metadata": {},
   "outputs": [
    {
     "data": {
      "text/plain": [
       "(24, 1)"
      ]
     },
     "execution_count": 31,
     "metadata": {},
     "output_type": "execute_result"
    }
   ],
   "source": [
    "xtrain.shape"
   ]
  },
  {
   "cell_type": "code",
   "execution_count": 32,
   "metadata": {},
   "outputs": [
    {
     "data": {
      "text/plain": [
       "(6, 1)"
      ]
     },
     "execution_count": 32,
     "metadata": {},
     "output_type": "execute_result"
    }
   ],
   "source": [
    "xtest.shape"
   ]
  },
  {
   "cell_type": "code",
   "execution_count": 33,
   "metadata": {},
   "outputs": [
    {
     "data": {
      "text/plain": [
       "(30,)"
      ]
     },
     "execution_count": 33,
     "metadata": {},
     "output_type": "execute_result"
    }
   ],
   "source": [
    "y.shape"
   ]
  },
  {
   "cell_type": "code",
   "execution_count": 34,
   "metadata": {},
   "outputs": [
    {
     "data": {
      "text/plain": [
       "(24,)"
      ]
     },
     "execution_count": 34,
     "metadata": {},
     "output_type": "execute_result"
    }
   ],
   "source": [
    "ytrain.shape"
   ]
  },
  {
   "cell_type": "code",
   "execution_count": 35,
   "metadata": {},
   "outputs": [
    {
     "data": {
      "text/plain": [
       "(6,)"
      ]
     },
     "execution_count": 35,
     "metadata": {},
     "output_type": "execute_result"
    }
   ],
   "source": [
    "ytest.shape"
   ]
  },
  {
   "cell_type": "code",
   "execution_count": 36,
   "metadata": {},
   "outputs": [],
   "source": [
    "model = LinearRegression()"
   ]
  },
  {
   "cell_type": "code",
   "execution_count": 38,
   "metadata": {},
   "outputs": [
    {
     "data": {
      "text/plain": [
       "LinearRegression()"
      ]
     },
     "execution_count": 38,
     "metadata": {},
     "output_type": "execute_result"
    }
   ],
   "source": [
    "model.fit(xtrain, ytrain)"
   ]
  },
  {
   "cell_type": "code",
   "execution_count": 39,
   "metadata": {},
   "outputs": [
    {
     "data": {
      "text/plain": [
       "array([9356.86299354])"
      ]
     },
     "execution_count": 39,
     "metadata": {},
     "output_type": "execute_result"
    }
   ],
   "source": [
    "model.coef_"
   ]
  },
  {
   "cell_type": "code",
   "execution_count": 40,
   "metadata": {},
   "outputs": [
    {
     "data": {
      "text/plain": [
       "26089.096632416702"
      ]
     },
     "execution_count": 40,
     "metadata": {},
     "output_type": "execute_result"
    }
   ],
   "source": [
    "model.intercept_"
   ]
  },
  {
   "cell_type": "code",
   "execution_count": 42,
   "metadata": {},
   "outputs": [
    {
     "data": {
      "text/plain": [
       "98.16423482070253"
      ]
     },
     "execution_count": 42,
     "metadata": {},
     "output_type": "execute_result"
    }
   ],
   "source": [
    "model.score(xtest, ytest) * 100"
   ]
  },
  {
   "cell_type": "code",
   "execution_count": 50,
   "metadata": {},
   "outputs": [
    {
     "data": {
      "text/html": [
       "<div>\n",
       "<style scoped>\n",
       "    .dataframe tbody tr th:only-of-type {\n",
       "        vertical-align: middle;\n",
       "    }\n",
       "\n",
       "    .dataframe tbody tr th {\n",
       "        vertical-align: top;\n",
       "    }\n",
       "\n",
       "    .dataframe thead th {\n",
       "        text-align: right;\n",
       "    }\n",
       "</style>\n",
       "<table border=\"1\" class=\"dataframe\">\n",
       "  <thead>\n",
       "    <tr style=\"text-align: right;\">\n",
       "      <th></th>\n",
       "      <th>YearsExperience</th>\n",
       "    </tr>\n",
       "  </thead>\n",
       "  <tbody>\n",
       "    <tr>\n",
       "      <th>20</th>\n",
       "      <td>6.8</td>\n",
       "    </tr>\n",
       "    <tr>\n",
       "      <th>7</th>\n",
       "      <td>3.2</td>\n",
       "    </tr>\n",
       "    <tr>\n",
       "      <th>5</th>\n",
       "      <td>2.9</td>\n",
       "    </tr>\n",
       "    <tr>\n",
       "      <th>2</th>\n",
       "      <td>1.5</td>\n",
       "    </tr>\n",
       "    <tr>\n",
       "      <th>3</th>\n",
       "      <td>2.0</td>\n",
       "    </tr>\n",
       "    <tr>\n",
       "      <th>21</th>\n",
       "      <td>7.1</td>\n",
       "    </tr>\n",
       "  </tbody>\n",
       "</table>\n",
       "</div>"
      ],
      "text/plain": [
       "    YearsExperience\n",
       "20              6.8\n",
       "7               3.2\n",
       "5               2.9\n",
       "2               1.5\n",
       "3               2.0\n",
       "21              7.1"
      ]
     },
     "execution_count": 50,
     "metadata": {},
     "output_type": "execute_result"
    }
   ],
   "source": [
    "xtest"
   ]
  },
  {
   "cell_type": "code",
   "execution_count": 52,
   "metadata": {},
   "outputs": [
    {
     "data": {
      "text/plain": [
       "array([89715.76498848, 56031.05821174, 53223.99931368, 40124.39112273,\n",
       "       44802.8226195 , 92522.82388655])"
      ]
     },
     "execution_count": 52,
     "metadata": {},
     "output_type": "execute_result"
    }
   ],
   "source": [
    "y_pred = model.predict(xtest)\n",
    "y_pred"
   ]
  },
  {
   "cell_type": "code",
   "execution_count": 55,
   "metadata": {},
   "outputs": [],
   "source": [
    "# a = model.predict(ytest)\n",
    "# a"
   ]
  },
  {
   "cell_type": "code",
   "execution_count": 53,
   "metadata": {},
   "outputs": [
    {
     "data": {
      "text/plain": [
       "20    91738.0\n",
       "7     54445.0\n",
       "5     56642.0\n",
       "2     37731.0\n",
       "3     43525.0\n",
       "21    98273.0\n",
       "Name: Salary, dtype: float64"
      ]
     },
     "execution_count": 53,
     "metadata": {},
     "output_type": "execute_result"
    }
   ],
   "source": [
    "ytest"
   ]
  },
  {
   "cell_type": "code",
   "execution_count": 57,
   "metadata": {},
   "outputs": [
    {
     "name": "stdout",
     "output_type": "stream",
     "text": [
      "3128.1895944642342\n",
      "2741.2806275420785\n",
      "98.16423482070253\n"
     ]
    }
   ],
   "source": [
    "from sklearn.metrics import mean_squared_error, mean_absolute_error, r2_score\n",
    "print(np.sqrt(mean_squared_error(ytest, y_pred)))\n",
    "print(mean_absolute_error(ytest, y_pred))\n",
    "print(r2_score(ytest, y_pred) * 100)"
   ]
  },
  {
   "cell_type": "code",
   "execution_count": 61,
   "metadata": {},
   "outputs": [
    {
     "data": {
      "text/plain": [
       "<matplotlib.collections.PathCollection at 0x2b67d42e5b0>"
      ]
     },
     "execution_count": 61,
     "metadata": {},
     "output_type": "execute_result"
    },
    {
     "data": {
      "image/png": "[encoded data removed]",
      "text/plain": [
       "<Figure size 432x288 with 1 Axes>"
      ]
     },
     "metadata": {
      "needs_background": "light"
     },
     "output_type": "display_data"
    }
   ],
   "source": [
    "plt.scatter(ytest, y_pred)"
   ]
  },
  {
   "cell_type": "code",
   "execution_count": 62,
   "metadata": {
    "scrolled": false
   },
   "outputs": [
    {
     "data": {
      "image/png": "[encoded data removed]",
      "text/plain": [
       "<Figure size 432x288 with 1 Axes>"
      ]
     },
     "metadata": {
      "needs_background": "light"
     },
     "output_type": "display_data"
    }
   ],
   "source": [
    "sns.regplot(x=ytest, y=y_pred, data=df)\n",
    "plt.grid()"
   ]
  },
  {
   "cell_type": "code",
   "execution_count": null,
   "metadata": {},
   "outputs": [],
   "source": []
  },
  {
   "cell_type": "code",
   "execution_count": null,
   "metadata": {},
   "outputs": [],
   "source": []
  },
  {
   "cell_type": "code",
   "execution_count": 47,
   "metadata": {},
   "outputs": [],
   "source": [
    "#Task for Home --- > use google if seed function is not clear. \n",
    "\n",
    "# Try to make a regression model with the following data set and analyze.\n",
    "np.random.seed(20)\n",
    "x = 6-7*np.random.normal(0,1,100)\n",
    "y = x - 4*(x**2) + 0.4*(x**3) + np.random.normal(-2,2,100)\n",
    "\n",
    "#seed would fix the random values coming, and then set the x and y variables in the dataframe.\n",
    "#Then make a linear regression model \n",
    "#and check the results of this multi-polynomial function."
   ]
  },
  {
   "cell_type": "code",
   "execution_count": 48,
   "metadata": {},
   "outputs": [
    {
     "data": {
      "text/plain": [
       "array([-1.87251788e-01,  4.62894485e+00,  3.49724439e+00,  2.24028333e+01,\n",
       "        1.35938281e+01,  2.08212597e+00, -5.76285449e-01,  1.28493673e+01,\n",
       "        2.47832212e+00,  3.15509872e+00,  3.73577293e+00,  9.45387617e+00,\n",
       "        1.15441175e+01,  1.18965755e+01,  1.49565186e+01,  4.27999381e+00,\n",
       "        6.30936360e+00, -4.97342787e+00, -1.35776076e+00,  3.15542102e+00,\n",
       "        7.18052271e+00,  2.83279195e+01, -1.84092581e+00, -3.32944746e+00,\n",
       "        7.70337136e+00,  6.91021498e+00,  6.76312160e+00, -4.89330507e+00,\n",
       "        5.09855153e+00,  2.04686411e+01,  1.21984521e+01,  1.37320564e+01,\n",
       "       -5.30064426e-01, -8.41886601e+00,  1.25445657e+01,  1.72909315e+01,\n",
       "        2.31051197e+00,  1.68577051e+01,  3.69270663e+00,  1.39556858e+01,\n",
       "        8.36943423e+00,  3.75320451e+00,  1.02161561e+01, -4.81309853e+00,\n",
       "        1.47076141e+00,  1.84747951e+00,  2.93382852e+00, -3.50452311e+00,\n",
       "       -2.43157893e+00, -3.46257331e+00,  2.54593935e+00,  2.49305567e+01,\n",
       "        9.88630058e+00,  5.98944008e+00,  3.43281776e-04, -4.36800553e+00,\n",
       "        7.53762786e+00, -4.52378710e+00,  1.63766954e+01,  1.19931495e+01,\n",
       "        1.18008494e+01,  5.20166678e+00,  2.30590071e+00,  4.90913245e+00,\n",
       "       -3.11000579e+00,  1.29636134e+01, -8.66265737e+00,  3.48399704e+00,\n",
       "        1.16298517e+00,  1.64000373e+01,  5.30847970e+00,  7.59824721e+00,\n",
       "        1.19834284e+01,  9.59201574e+00,  1.27355119e+01,  9.37715638e+00,\n",
       "        7.67628830e+00,  2.78179041e+00,  1.47498884e+00,  2.58817927e+00,\n",
       "        5.73265272e+00, -9.26405911e-01,  4.99464156e+00,  7.47914501e-01,\n",
       "        8.86699998e+00, -4.13184933e+00,  8.83173817e+00, -2.04247510e+00,\n",
       "        1.25723734e+01,  1.93102484e+01, -1.66803346e+00,  8.33480651e+00,\n",
       "        1.60929400e+01,  1.59166672e+01,  1.74065106e+01,  1.87067907e+01,\n",
       "        1.33931830e+01,  2.12007547e+00,  1.26501261e+01, -5.99545777e-03])"
      ]
     },
     "execution_count": 48,
     "metadata": {},
     "output_type": "execute_result"
    }
   ],
   "source": [
    "x"
   ]
  },
  {
   "cell_type": "code",
   "execution_count": 49,
   "metadata": {},
   "outputs": [
    {
     "data": {
      "text/plain": [
       "array([[-1.87251788e-01],\n",
       "       [ 4.62894485e+00],\n",
       "       [ 3.49724439e+00],\n",
       "       [ 2.24028333e+01],\n",
       "       [ 1.35938281e+01],\n",
       "       [ 2.08212597e+00],\n",
       "       [-5.76285449e-01],\n",
       "       [ 1.28493673e+01],\n",
       "       [ 2.47832212e+00],\n",
       "       [ 3.15509872e+00],\n",
       "       [ 3.73577293e+00],\n",
       "       [ 9.45387617e+00],\n",
       "       [ 1.15441175e+01],\n",
       "       [ 1.18965755e+01],\n",
       "       [ 1.49565186e+01],\n",
       "       [ 4.27999381e+00],\n",
       "       [ 6.30936360e+00],\n",
       "       [-4.97342787e+00],\n",
       "       [-1.35776076e+00],\n",
       "       [ 3.15542102e+00],\n",
       "       [ 7.18052271e+00],\n",
       "       [ 2.83279195e+01],\n",
       "       [-1.84092581e+00],\n",
       "       [-3.32944746e+00],\n",
       "       [ 7.70337136e+00],\n",
       "       [ 6.91021498e+00],\n",
       "       [ 6.76312160e+00],\n",
       "       [-4.89330507e+00],\n",
       "       [ 5.09855153e+00],\n",
       "       [ 2.04686411e+01],\n",
       "       [ 1.21984521e+01],\n",
       "       [ 1.37320564e+01],\n",
       "       [-5.30064426e-01],\n",
       "       [-8.41886601e+00],\n",
       "       [ 1.25445657e+01],\n",
       "       [ 1.72909315e+01],\n",
       "       [ 2.31051197e+00],\n",
       "       [ 1.68577051e+01],\n",
       "       [ 3.69270663e+00],\n",
       "       [ 1.39556858e+01],\n",
       "       [ 8.36943423e+00],\n",
       "       [ 3.75320451e+00],\n",
       "       [ 1.02161561e+01],\n",
       "       [-4.81309853e+00],\n",
       "       [ 1.47076141e+00],\n",
       "       [ 1.84747951e+00],\n",
       "       [ 2.93382852e+00],\n",
       "       [-3.50452311e+00],\n",
       "       [-2.43157893e+00],\n",
       "       [-3.46257331e+00],\n",
       "       [ 2.54593935e+00],\n",
       "       [ 2.49305567e+01],\n",
       "       [ 9.88630058e+00],\n",
       "       [ 5.98944008e+00],\n",
       "       [ 3.43281776e-04],\n",
       "       [-4.36800553e+00],\n",
       "       [ 7.53762786e+00],\n",
       "       [-4.52378710e+00],\n",
       "       [ 1.63766954e+01],\n",
       "       [ 1.19931495e+01],\n",
       "       [ 1.18008494e+01],\n",
       "       [ 5.20166678e+00],\n",
       "       [ 2.30590071e+00],\n",
       "       [ 4.90913245e+00],\n",
       "       [-3.11000579e+00],\n",
       "       [ 1.29636134e+01],\n",
       "       [-8.66265737e+00],\n",
       "       [ 3.48399704e+00],\n",
       "       [ 1.16298517e+00],\n",
       "       [ 1.64000373e+01],\n",
       "       [ 5.30847970e+00],\n",
       "       [ 7.59824721e+00],\n",
       "       [ 1.19834284e+01],\n",
       "       [ 9.59201574e+00],\n",
       "       [ 1.27355119e+01],\n",
       "       [ 9.37715638e+00],\n",
       "       [ 7.67628830e+00],\n",
       "       [ 2.78179041e+00],\n",
       "       [ 1.47498884e+00],\n",
       "       [ 2.58817927e+00],\n",
       "       [ 5.73265272e+00],\n",
       "       [-9.26405911e-01],\n",
       "       [ 4.99464156e+00],\n",
       "       [ 7.47914501e-01],\n",
       "       [ 8.86699998e+00],\n",
       "       [-4.13184933e+00],\n",
       "       [ 8.83173817e+00],\n",
       "       [-2.04247510e+00],\n",
       "       [ 1.25723734e+01],\n",
       "       [ 1.93102484e+01],\n",
       "       [-1.66803346e+00],\n",
       "       [ 8.33480651e+00],\n",
       "       [ 1.60929400e+01],\n",
       "       [ 1.59166672e+01],\n",
       "       [ 1.74065106e+01],\n",
       "       [ 1.87067907e+01],\n",
       "       [ 1.33931830e+01],\n",
       "       [ 2.12007547e+00],\n",
       "       [ 1.26501261e+01],\n",
       "       [-5.99545777e-03]])"
      ]
     },
     "execution_count": 49,
     "metadata": {},
     "output_type": "execute_result"
    }
   ],
   "source": [
    "x = x.reshape(100,1)\n",
    "x"
   ]
  },
  {
   "cell_type": "code",
   "execution_count": 50,
   "metadata": {},
   "outputs": [
    {
     "data": {
      "text/plain": [
       "array([-3.39428947e+00, -4.11540571e+01, -2.98787890e+01,  2.50954511e+03,\n",
       "        2.76780941e+02, -1.68007646e+01, -3.64959400e+00,  2.00606289e+02,\n",
       "       -2.19249629e+01, -2.98044107e+01, -3.10498735e+01, -1.02010382e+01,\n",
       "        9.04322947e+01,  1.20150545e+02,  4.57965376e+02, -4.23022711e+01,\n",
       "       -5.31042005e+01, -1.53458221e+02, -1.24631533e+01, -2.51107565e+01,\n",
       "       -5.23891531e+01,  5.90843724e+03, -1.66805368e+01, -6.47407161e+01,\n",
       "       -5.23835166e+01, -5.43293173e+01, -5.13832765e+01, -1.51601278e+02,\n",
       "       -4.80787822e+01,  1.77688724e+03,  1.41074747e+02,  2.91053810e+02,\n",
       "       -6.74253206e+00, -5.33730222e+02,  1.72399193e+02,  8.87720368e+02,\n",
       "       -1.44591456e+01,  7.98037273e+02, -3.20337491e+01,  3.20339401e+02,\n",
       "       -3.86203642e+01, -3.25468632e+01,  1.50107475e+01, -1.45923120e+02,\n",
       "       -7.86647243e+00, -1.00940994e+01, -1.97402923e+01, -7.40208350e+01,\n",
       "       -3.17157572e+01, -6.85315887e+01, -1.75605385e+01,  3.73470755e+03,\n",
       "       -4.41376350e-01, -5.28766465e+01,  1.72605308e+00, -1.16612052e+02,\n",
       "       -4.94664296e+01, -1.26843854e+02,  7.00933340e+02,  1.26348298e+02,\n",
       "        1.11563652e+02, -4.90907000e+01, -1.57532993e+01, -4.37060924e+01,\n",
       "       -5.52865557e+01,  2.10334100e+02, -5.70679530e+02, -3.51838226e+01,\n",
       "       -1.91787407e+00,  7.02593161e+02, -4.77673299e+01, -5.29565755e+01,\n",
       "        1.26796540e+02, -6.88524468e+00,  1.89066260e+02, -1.36569872e+01,\n",
       "       -4.99704906e+01, -1.87200483e+01, -4.03292565e+00, -2.00547138e+01,\n",
       "       -5.21215607e+01, -5.84929433e+00, -4.42187052e+01, -6.04868367e+00,\n",
       "       -2.87339491e+01, -1.00827113e+02, -3.12316458e+01, -2.55501549e+01,\n",
       "        1.75318602e+02,  1.40578667e+03, -1.95316886e+01, -4.05594617e+01,\n",
       "        6.46890747e+02,  6.13463657e+02,  9.12514290e+02,  1.23368355e+03,\n",
       "        2.51625456e+02, -1.57510755e+01,  1.80203067e+02, -2.54679313e+00])"
      ]
     },
     "execution_count": 50,
     "metadata": {},
     "output_type": "execute_result"
    }
   ],
   "source": [
    "y"
   ]
  },
  {
   "cell_type": "code",
   "execution_count": 51,
   "metadata": {},
   "outputs": [
    {
     "data": {
      "text/plain": [
       "array([[-3.39428947e+00],\n",
       "       [-4.11540571e+01],\n",
       "       [-2.98787890e+01],\n",
       "       [ 2.50954511e+03],\n",
       "       [ 2.76780941e+02],\n",
       "       [-1.68007646e+01],\n",
       "       [-3.64959400e+00],\n",
       "       [ 2.00606289e+02],\n",
       "       [-2.19249629e+01],\n",
       "       [-2.98044107e+01],\n",
       "       [-3.10498735e+01],\n",
       "       [-1.02010382e+01],\n",
       "       [ 9.04322947e+01],\n",
       "       [ 1.20150545e+02],\n",
       "       [ 4.57965376e+02],\n",
       "       [-4.23022711e+01],\n",
       "       [-5.31042005e+01],\n",
       "       [-1.53458221e+02],\n",
       "       [-1.24631533e+01],\n",
       "       [-2.51107565e+01],\n",
       "       [-5.23891531e+01],\n",
       "       [ 5.90843724e+03],\n",
       "       [-1.66805368e+01],\n",
       "       [-6.47407161e+01],\n",
       "       [-5.23835166e+01],\n",
       "       [-5.43293173e+01],\n",
       "       [-5.13832765e+01],\n",
       "       [-1.51601278e+02],\n",
       "       [-4.80787822e+01],\n",
       "       [ 1.77688724e+03],\n",
       "       [ 1.41074747e+02],\n",
       "       [ 2.91053810e+02],\n",
       "       [-6.74253206e+00],\n",
       "       [-5.33730222e+02],\n",
       "       [ 1.72399193e+02],\n",
       "       [ 8.87720368e+02],\n",
       "       [-1.44591456e+01],\n",
       "       [ 7.98037273e+02],\n",
       "       [-3.20337491e+01],\n",
       "       [ 3.20339401e+02],\n",
       "       [-3.86203642e+01],\n",
       "       [-3.25468632e+01],\n",
       "       [ 1.50107475e+01],\n",
       "       [-1.45923120e+02],\n",
       "       [-7.86647243e+00],\n",
       "       [-1.00940994e+01],\n",
       "       [-1.97402923e+01],\n",
       "       [-7.40208350e+01],\n",
       "       [-3.17157572e+01],\n",
       "       [-6.85315887e+01],\n",
       "       [-1.75605385e+01],\n",
       "       [ 3.73470755e+03],\n",
       "       [-4.41376350e-01],\n",
       "       [-5.28766465e+01],\n",
       "       [ 1.72605308e+00],\n",
       "       [-1.16612052e+02],\n",
       "       [-4.94664296e+01],\n",
       "       [-1.26843854e+02],\n",
       "       [ 7.00933340e+02],\n",
       "       [ 1.26348298e+02],\n",
       "       [ 1.11563652e+02],\n",
       "       [-4.90907000e+01],\n",
       "       [-1.57532993e+01],\n",
       "       [-4.37060924e+01],\n",
       "       [-5.52865557e+01],\n",
       "       [ 2.10334100e+02],\n",
       "       [-5.70679530e+02],\n",
       "       [-3.51838226e+01],\n",
       "       [-1.91787407e+00],\n",
       "       [ 7.02593161e+02],\n",
       "       [-4.77673299e+01],\n",
       "       [-5.29565755e+01],\n",
       "       [ 1.26796540e+02],\n",
       "       [-6.88524468e+00],\n",
       "       [ 1.89066260e+02],\n",
       "       [-1.36569872e+01],\n",
       "       [-4.99704906e+01],\n",
       "       [-1.87200483e+01],\n",
       "       [-4.03292565e+00],\n",
       "       [-2.00547138e+01],\n",
       "       [-5.21215607e+01],\n",
       "       [-5.84929433e+00],\n",
       "       [-4.42187052e+01],\n",
       "       [-6.04868367e+00],\n",
       "       [-2.87339491e+01],\n",
       "       [-1.00827113e+02],\n",
       "       [-3.12316458e+01],\n",
       "       [-2.55501549e+01],\n",
       "       [ 1.75318602e+02],\n",
       "       [ 1.40578667e+03],\n",
       "       [-1.95316886e+01],\n",
       "       [-4.05594617e+01],\n",
       "       [ 6.46890747e+02],\n",
       "       [ 6.13463657e+02],\n",
       "       [ 9.12514290e+02],\n",
       "       [ 1.23368355e+03],\n",
       "       [ 2.51625456e+02],\n",
       "       [-1.57510755e+01],\n",
       "       [ 1.80203067e+02],\n",
       "       [-2.54679313e+00]])"
      ]
     },
     "execution_count": 51,
     "metadata": {},
     "output_type": "execute_result"
    }
   ],
   "source": [
    "y = y.reshape(100,1)\n",
    "y"
   ]
  },
  {
   "cell_type": "code",
   "execution_count": 52,
   "metadata": {},
   "outputs": [],
   "source": [
    "from sklearn.model_selection import train_test_split\n",
    "from sklearn.linear_model import LinearRegression"
   ]
  },
  {
   "cell_type": "code",
   "execution_count": 53,
   "metadata": {},
   "outputs": [],
   "source": [
    "x_train, x_test, y_train, y_test = train_test_split(x, y, test_size=0.2, random_state=10)"
   ]
  },
  {
   "cell_type": "code",
   "execution_count": 54,
   "metadata": {},
   "outputs": [
    {
     "data": {
      "text/plain": [
       "(100, 1)"
      ]
     },
     "execution_count": 54,
     "metadata": {},
     "output_type": "execute_result"
    }
   ],
   "source": [
    "x.shape"
   ]
  },
  {
   "cell_type": "code",
   "execution_count": 55,
   "metadata": {},
   "outputs": [
    {
     "data": {
      "text/plain": [
       "(80, 1)"
      ]
     },
     "execution_count": 55,
     "metadata": {},
     "output_type": "execute_result"
    }
   ],
   "source": [
    "x_train.shape"
   ]
  },
  {
   "cell_type": "code",
   "execution_count": 56,
   "metadata": {},
   "outputs": [
    {
     "data": {
      "text/plain": [
       "(20, 1)"
      ]
     },
     "execution_count": 56,
     "metadata": {},
     "output_type": "execute_result"
    }
   ],
   "source": [
    "x_test.shape"
   ]
  },
  {
   "cell_type": "code",
   "execution_count": 57,
   "metadata": {},
   "outputs": [],
   "source": [
    "m = LinearRegression()"
   ]
  },
  {
   "cell_type": "code",
   "execution_count": 58,
   "metadata": {},
   "outputs": [
    {
     "data": {
      "text/plain": [
       "LinearRegression()"
      ]
     },
     "execution_count": 58,
     "metadata": {},
     "output_type": "execute_result"
    }
   ],
   "source": [
    "m.fit(x_train, y_train)"
   ]
  },
  {
   "cell_type": "code",
   "execution_count": 59,
   "metadata": {},
   "outputs": [
    {
     "data": {
      "text/plain": [
       "array([[73.3131152]])"
      ]
     },
     "execution_count": 59,
     "metadata": {},
     "output_type": "execute_result"
    }
   ],
   "source": [
    "m.coef_"
   ]
  },
  {
   "cell_type": "code",
   "execution_count": 60,
   "metadata": {},
   "outputs": [
    {
     "data": {
      "text/plain": [
       "array([-240.45068149])"
      ]
     },
     "execution_count": 60,
     "metadata": {},
     "output_type": "execute_result"
    }
   ],
   "source": [
    "m.intercept_"
   ]
  },
  {
   "cell_type": "code",
   "execution_count": 61,
   "metadata": {},
   "outputs": [
    {
     "data": {
      "text/plain": [
       "65.9195455575454"
      ]
     },
     "execution_count": 61,
     "metadata": {},
     "output_type": "execute_result"
    }
   ],
   "source": [
    "m.score(x_test, y_test) * 100"
   ]
  },
  {
   "cell_type": "code",
   "execution_count": null,
   "metadata": {},
   "outputs": [],
   "source": []
  },
  {
   "cell_type": "code",
   "execution_count": null,
   "metadata": {},
   "outputs": [],
   "source": []
  },
  {
   "cell_type": "code",
   "execution_count": null,
   "metadata": {},
   "outputs": [],
   "source": []
  },
  {
   "cell_type": "code",
   "execution_count": null,
   "metadata": {},
   "outputs": [],
   "source": []
  },
  {
   "cell_type": "code",
   "execution_count": null,
   "metadata": {},
   "outputs": [],
   "source": []
  },
  {
   "cell_type": "code",
   "execution_count": null,
   "metadata": {},
   "outputs": [],
   "source": []
  },
  {
   "cell_type": "code",
   "execution_count": 64,
   "metadata": {},
   "outputs": [
    {
     "data": {
      "text/html": [
       "<div>\n",
       "<style scoped>\n",
       "    .dataframe tbody tr th:only-of-type {\n",
       "        vertical-align: middle;\n",
       "    }\n",
       "\n",
       "    .dataframe tbody tr th {\n",
       "        vertical-align: top;\n",
       "    }\n",
       "\n",
       "    .dataframe thead th {\n",
       "        text-align: right;\n",
       "    }\n",
       "</style>\n",
       "<table border=\"1\" class=\"dataframe\">\n",
       "  <thead>\n",
       "    <tr style=\"text-align: right;\">\n",
       "      <th></th>\n",
       "      <th>S.No.</th>\n",
       "      <th>Name</th>\n",
       "      <th>Location</th>\n",
       "      <th>Year</th>\n",
       "      <th>Kilometers_Driven</th>\n",
       "      <th>Fuel_Type</th>\n",
       "      <th>Transmission</th>\n",
       "      <th>Owner_Type</th>\n",
       "      <th>Mileage</th>\n",
       "      <th>Engine</th>\n",
       "      <th>Power</th>\n",
       "      <th>Seats</th>\n",
       "      <th>New_Price</th>\n",
       "      <th>Price</th>\n",
       "    </tr>\n",
       "  </thead>\n",
       "  <tbody>\n",
       "    <tr>\n",
       "      <th>0</th>\n",
       "      <td>0</td>\n",
       "      <td>Maruti Wagon R LXI CNG</td>\n",
       "      <td>Mumbai</td>\n",
       "      <td>2010</td>\n",
       "      <td>72000</td>\n",
       "      <td>CNG</td>\n",
       "      <td>Manual</td>\n",
       "      <td>First</td>\n",
       "      <td>26.6 km/kg</td>\n",
       "      <td>998 CC</td>\n",
       "      <td>58.16 bhp</td>\n",
       "      <td>5.0</td>\n",
       "      <td>NaN</td>\n",
       "      <td>1.75</td>\n",
       "    </tr>\n",
       "    <tr>\n",
       "      <th>1</th>\n",
       "      <td>1</td>\n",
       "      <td>Hyundai Creta 1.6 CRDi SX Option</td>\n",
       "      <td>Pune</td>\n",
       "      <td>2015</td>\n",
       "      <td>41000</td>\n",
       "      <td>Diesel</td>\n",
       "      <td>Manual</td>\n",
       "      <td>First</td>\n",
       "      <td>19.67 kmpl</td>\n",
       "      <td>1582 CC</td>\n",
       "      <td>126.2 bhp</td>\n",
       "      <td>5.0</td>\n",
       "      <td>NaN</td>\n",
       "      <td>12.50</td>\n",
       "    </tr>\n",
       "    <tr>\n",
       "      <th>2</th>\n",
       "      <td>2</td>\n",
       "      <td>Honda Jazz V</td>\n",
       "      <td>Chennai</td>\n",
       "      <td>2011</td>\n",
       "      <td>46000</td>\n",
       "      <td>Petrol</td>\n",
       "      <td>Manual</td>\n",
       "      <td>First</td>\n",
       "      <td>18.2 kmpl</td>\n",
       "      <td>1199 CC</td>\n",
       "      <td>88.7 bhp</td>\n",
       "      <td>5.0</td>\n",
       "      <td>8.61 Lakh</td>\n",
       "      <td>4.50</td>\n",
       "    </tr>\n",
       "    <tr>\n",
       "      <th>3</th>\n",
       "      <td>3</td>\n",
       "      <td>Maruti Ertiga VDI</td>\n",
       "      <td>Chennai</td>\n",
       "      <td>2012</td>\n",
       "      <td>87000</td>\n",
       "      <td>Diesel</td>\n",
       "      <td>Manual</td>\n",
       "      <td>First</td>\n",
       "      <td>20.77 kmpl</td>\n",
       "      <td>1248 CC</td>\n",
       "      <td>88.76 bhp</td>\n",
       "      <td>7.0</td>\n",
       "      <td>NaN</td>\n",
       "      <td>6.00</td>\n",
       "    </tr>\n",
       "    <tr>\n",
       "      <th>4</th>\n",
       "      <td>4</td>\n",
       "      <td>Audi A4 New 2.0 TDI Multitronic</td>\n",
       "      <td>Coimbatore</td>\n",
       "      <td>2013</td>\n",
       "      <td>40670</td>\n",
       "      <td>Diesel</td>\n",
       "      <td>Automatic</td>\n",
       "      <td>Second</td>\n",
       "      <td>15.2 kmpl</td>\n",
       "      <td>1968 CC</td>\n",
       "      <td>140.8 bhp</td>\n",
       "      <td>5.0</td>\n",
       "      <td>NaN</td>\n",
       "      <td>17.74</td>\n",
       "    </tr>\n",
       "    <tr>\n",
       "      <th>...</th>\n",
       "      <td>...</td>\n",
       "      <td>...</td>\n",
       "      <td>...</td>\n",
       "      <td>...</td>\n",
       "      <td>...</td>\n",
       "      <td>...</td>\n",
       "      <td>...</td>\n",
       "      <td>...</td>\n",
       "      <td>...</td>\n",
       "      <td>...</td>\n",
       "      <td>...</td>\n",
       "      <td>...</td>\n",
       "      <td>...</td>\n",
       "      <td>...</td>\n",
       "    </tr>\n",
       "    <tr>\n",
       "      <th>7248</th>\n",
       "      <td>7248</td>\n",
       "      <td>Volkswagen Vento Diesel Trendline</td>\n",
       "      <td>Hyderabad</td>\n",
       "      <td>2011</td>\n",
       "      <td>89411</td>\n",
       "      <td>Diesel</td>\n",
       "      <td>Manual</td>\n",
       "      <td>First</td>\n",
       "      <td>20.54 kmpl</td>\n",
       "      <td>1598 CC</td>\n",
       "      <td>103.6 bhp</td>\n",
       "      <td>5.0</td>\n",
       "      <td>NaN</td>\n",
       "      <td>NaN</td>\n",
       "    </tr>\n",
       "    <tr>\n",
       "      <th>7249</th>\n",
       "      <td>7249</td>\n",
       "      <td>Volkswagen Polo GT TSI</td>\n",
       "      <td>Mumbai</td>\n",
       "      <td>2015</td>\n",
       "      <td>59000</td>\n",
       "      <td>Petrol</td>\n",
       "      <td>Automatic</td>\n",
       "      <td>First</td>\n",
       "      <td>17.21 kmpl</td>\n",
       "      <td>1197 CC</td>\n",
       "      <td>103.6 bhp</td>\n",
       "      <td>5.0</td>\n",
       "      <td>NaN</td>\n",
       "      <td>NaN</td>\n",
       "    </tr>\n",
       "    <tr>\n",
       "      <th>7250</th>\n",
       "      <td>7250</td>\n",
       "      <td>Nissan Micra Diesel XV</td>\n",
       "      <td>Kolkata</td>\n",
       "      <td>2012</td>\n",
       "      <td>28000</td>\n",
       "      <td>Diesel</td>\n",
       "      <td>Manual</td>\n",
       "      <td>First</td>\n",
       "      <td>23.08 kmpl</td>\n",
       "      <td>1461 CC</td>\n",
       "      <td>63.1 bhp</td>\n",
       "      <td>5.0</td>\n",
       "      <td>NaN</td>\n",
       "      <td>NaN</td>\n",
       "    </tr>\n",
       "    <tr>\n",
       "      <th>7251</th>\n",
       "      <td>7251</td>\n",
       "      <td>Volkswagen Polo GT TSI</td>\n",
       "      <td>Pune</td>\n",
       "      <td>2013</td>\n",
       "      <td>52262</td>\n",
       "      <td>Petrol</td>\n",
       "      <td>Automatic</td>\n",
       "      <td>Third</td>\n",
       "      <td>17.2 kmpl</td>\n",
       "      <td>1197 CC</td>\n",
       "      <td>103.6 bhp</td>\n",
       "      <td>5.0</td>\n",
       "      <td>NaN</td>\n",
       "      <td>NaN</td>\n",
       "    </tr>\n",
       "    <tr>\n",
       "      <th>7252</th>\n",
       "      <td>7252</td>\n",
       "      <td>Mercedes-Benz E-Class 2009-2013 E 220 CDI Avan...</td>\n",
       "      <td>Kochi</td>\n",
       "      <td>2014</td>\n",
       "      <td>72443</td>\n",
       "      <td>Diesel</td>\n",
       "      <td>Automatic</td>\n",
       "      <td>First</td>\n",
       "      <td>10.0 kmpl</td>\n",
       "      <td>2148 CC</td>\n",
       "      <td>170 bhp</td>\n",
       "      <td>5.0</td>\n",
       "      <td>NaN</td>\n",
       "      <td>NaN</td>\n",
       "    </tr>\n",
       "  </tbody>\n",
       "</table>\n",
       "<p>7253 rows × 14 columns</p>\n",
       "</div>"
      ],
      "text/plain": [
       "      S.No.                                               Name    Location  \\\n",
       "0         0                             Maruti Wagon R LXI CNG      Mumbai   \n",
       "1         1                   Hyundai Creta 1.6 CRDi SX Option        Pune   \n",
       "2         2                                       Honda Jazz V     Chennai   \n",
       "3         3                                  Maruti Ertiga VDI     Chennai   \n",
       "4         4                    Audi A4 New 2.0 TDI Multitronic  Coimbatore   \n",
       "...     ...                                                ...         ...   \n",
       "7248   7248                  Volkswagen Vento Diesel Trendline   Hyderabad   \n",
       "7249   7249                             Volkswagen Polo GT TSI      Mumbai   \n",
       "7250   7250                             Nissan Micra Diesel XV     Kolkata   \n",
       "7251   7251                             Volkswagen Polo GT TSI        Pune   \n",
       "7252   7252  Mercedes-Benz E-Class 2009-2013 E 220 CDI Avan...       Kochi   \n",
       "\n",
       "      Year  Kilometers_Driven Fuel_Type Transmission Owner_Type     Mileage  \\\n",
       "0     2010              72000       CNG       Manual      First  26.6 km/kg   \n",
       "1     2015              41000    Diesel       Manual      First  19.67 kmpl   \n",
       "2     2011              46000    Petrol       Manual      First   18.2 kmpl   \n",
       "3     2012              87000    Diesel       Manual      First  20.77 kmpl   \n",
       "4     2013              40670    Diesel    Automatic     Second   15.2 kmpl   \n",
       "...    ...                ...       ...          ...        ...         ...   \n",
       "7248  2011              89411    Diesel       Manual      First  20.54 kmpl   \n",
       "7249  2015              59000    Petrol    Automatic      First  17.21 kmpl   \n",
       "7250  2012              28000    Diesel       Manual      First  23.08 kmpl   \n",
       "7251  2013              52262    Petrol    Automatic      Third   17.2 kmpl   \n",
       "7252  2014              72443    Diesel    Automatic      First   10.0 kmpl   \n",
       "\n",
       "       Engine      Power  Seats  New_Price  Price  \n",
       "0      998 CC  58.16 bhp    5.0        NaN   1.75  \n",
       "1     1582 CC  126.2 bhp    5.0        NaN  12.50  \n",
       "2     1199 CC   88.7 bhp    5.0  8.61 Lakh   4.50  \n",
       "3     1248 CC  88.76 bhp    7.0        NaN   6.00  \n",
       "4     1968 CC  140.8 bhp    5.0        NaN  17.74  \n",
       "...       ...        ...    ...        ...    ...  \n",
       "7248  1598 CC  103.6 bhp    5.0        NaN    NaN  \n",
       "7249  1197 CC  103.6 bhp    5.0        NaN    NaN  \n",
       "7250  1461 CC   63.1 bhp    5.0        NaN    NaN  \n",
       "7251  1197 CC  103.6 bhp    5.0        NaN    NaN  \n",
       "7252  2148 CC    170 bhp    5.0        NaN    NaN  \n",
       "\n",
       "[7253 rows x 14 columns]"
      ]
     },
     "execution_count": 64,
     "metadata": {},
     "output_type": "execute_result"
    }
   ],
   "source": [
    "# task hw\n",
    "\n",
    "df1 = pd.read_csv(\"used_cars_data.csv\")\n",
    "df1"
   ]
  },
  {
   "cell_type": "code",
   "execution_count": null,
   "metadata": {},
   "outputs": [],
   "source": [
    "# one hot encoding"
   ]
  }
 ],
 "metadata": {
  "kernelspec": {
   "display_name": "Python 3",
   "language": "python",
   "name": "python3"
  },
  "language_info": {
   "codemirror_mode": {
    "name": "ipython",
    "version": 3
   },
   "file_extension": ".py",
   "mimetype": "text/x-python",
   "name": "python",
   "nbconvert_exporter": "python",
   "pygments_lexer": "ipython3",
   "version": "3.8.5"
  }
 },
 "nbformat": 4,
 "nbformat_minor": 4
}
